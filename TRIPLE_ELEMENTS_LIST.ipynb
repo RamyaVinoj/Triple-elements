{
 "cells": [
  {
   "cell_type": "code",
   "execution_count": null,
   "id": "4311fb03",
   "metadata": {},
   "outputs": [],
   "source": []
  },
  {
   "cell_type": "code",
   "execution_count": 23,
   "id": "d72756ea",
   "metadata": {},
   "outputs": [
    {
     "name": "stdout",
     "output_type": "stream",
     "text": [
      "Enter number of elements in list:3\n",
      "Enter the no: 2\n",
      "Enter the no: 4\n",
      "Enter the no: 6\n",
      "The list is: [2, 4, 6]\n",
      "Triplet is: [6, 12, 18]\n"
     ]
    }
   ],
   "source": [
    "l=[]\n",
    "n=int(input(\"Enter number of elements in list:\"))\n",
    "for i in range(n):\n",
    "    a=int(input(\"Enter the no: \"))\n",
    "    b=l.append(a)\n",
    "print(\"The list is:\",l)\n",
    "x=map((lambda l:l*3),l)\n",
    "print(\"Triplet is:\",list(x))"
   ]
  },
  {
   "cell_type": "code",
   "execution_count": null,
   "id": "64d8f6f8",
   "metadata": {},
   "outputs": [],
   "source": []
  }
 ],
 "metadata": {
  "kernelspec": {
   "display_name": "Python 3 (ipykernel)",
   "language": "python",
   "name": "python3"
  },
  "language_info": {
   "codemirror_mode": {
    "name": "ipython",
    "version": 3
   },
   "file_extension": ".py",
   "mimetype": "text/x-python",
   "name": "python",
   "nbconvert_exporter": "python",
   "pygments_lexer": "ipython3",
   "version": "3.10.0"
  }
 },
 "nbformat": 4,
 "nbformat_minor": 5
}
